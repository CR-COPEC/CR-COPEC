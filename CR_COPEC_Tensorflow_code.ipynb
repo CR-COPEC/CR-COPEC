{
  "cells": [
    {
      "cell_type": "code",
      "execution_count": 1,
      "metadata": {
        "colab": {
          "base_uri": "https://localhost:8080/"
        },
        "id": "7ec93x_WzJGf",
        "outputId": "156532ae-39e5-423c-d3de-e7e1a07c0c9e"
      },
      "outputs": [
        {
          "output_type": "stream",
          "name": "stdout",
          "text": [
            "device_count: 1\n",
            "device 0 capability (7, 5)\n",
            "device 0 name Tesla T4\n"
          ]
        }
      ],
      "source": [
        "# Check device\n",
        "import torch\n",
        "\n",
        "if torch.cuda.is_available():\n",
        "    device_count = torch.cuda.device_count()\n",
        "    print(\"device_count: {}\".format(device_count))\n",
        "    for device_num in range(device_count):\n",
        "        print(\"device {} capability {}\".format(\n",
        "            device_num,\n",
        "              torch.cuda.get_device_capability(device_num)))\n",
        "        print(\"device {} name {}\".format(device_num, torch.cuda.get_device_name(device_num)))\n",
        "else:\n",
        "    print(\"no cuda device\")"
      ]
    },
    {
      "cell_type": "code",
      "execution_count": 2,
      "metadata": {
        "colab": {
          "base_uri": "https://localhost:8080/"
        },
        "id": "LoxJhyQCuYFZ",
        "outputId": "8b1eec20-bfa9-49aa-deb0-f72c1d173f21"
      },
      "outputs": [
        {
          "output_type": "stream",
          "name": "stdout",
          "text": [
            "Mounted at /content/gdrive/\n",
            "/content/gdrive/MyDrive/Colab Notebooks/CR-COPEC\n"
          ]
        }
      ],
      "source": [
        "# Mounting google drive\n",
        "from google.colab import drive, files\n",
        "drive.mount('/content/gdrive/')\n",
        "\n",
        "%cd gdrive/MyDrive/Colab\\ Notebooks/CR-COPEC"
      ]
    },
    {
      "cell_type": "code",
      "execution_count": 3,
      "metadata": {
        "id": "1sZdECVDzd4b"
      },
      "outputs": [],
      "source": [
        "# Install requirements\n",
        "from IPython.display import clear_output\n",
        "\n",
        "!pip install tensorflow_text==2.8.1\n",
        "clear_output()"
      ]
    },
    {
      "cell_type": "code",
      "execution_count": 4,
      "metadata": {
        "id": "dNLQCvngzapS",
        "colab": {
          "base_uri": "https://localhost:8080/",
          "height": 35
        },
        "outputId": "bdbfb88f-affa-4dd4-8494-bf082867c23a"
      },
      "outputs": [
        {
          "output_type": "execute_result",
          "data": {
            "text/plain": [
              "'2.8.4'"
            ],
            "application/vnd.google.colaboratory.intrinsic+json": {
              "type": "string"
            }
          },
          "metadata": {},
          "execution_count": 4
        }
      ],
      "source": [
        "import os\n",
        "import numpy as np\n",
        "import matplotlib.pyplot as plt\n",
        "import pandas as pd\n",
        "import random\n",
        "import tensorflow as tf\n",
        "import tensorflow_hub as hub\n",
        "import tensorflow_text as text\n",
        "\n",
        "seed_value= 0\n",
        "os.environ['PYTHONHASHSEED'] = str(seed_value)\n",
        "np.random.seed(seed_value)\n",
        "random.seed(seed_value)\n",
        "tf.random.set_seed(seed_value)\n",
        "\n",
        "tf.__version__"
      ]
    },
    {
      "cell_type": "code",
      "source": [
        "# predefine hyperparameters and model-type\n",
        "model_name='bert_base'\n",
        "current_lr= 2e-6\n",
        "epoch=1\n",
        "batch=32"
      ],
      "metadata": {
        "id": "UYialah1ZxzP"
      },
      "execution_count": 5,
      "outputs": []
    },
    {
      "cell_type": "markdown",
      "metadata": {
        "id": "9LKBS9yZux02"
      },
      "source": [
        " ## Load Data"
      ]
    },
    {
      "cell_type": "code",
      "execution_count": 7,
      "metadata": {
        "colab": {
          "base_uri": "https://localhost:8080/",
          "height": 345
        },
        "id": "hRIvv-Xbu0BX",
        "outputId": "ea015f4b-10b1-4c9f-d787-a5937569387b"
      },
      "outputs": [
        {
          "output_type": "stream",
          "name": "stderr",
          "text": [
            "<ipython-input-7-6a27ca949d1c>:2: DtypeWarning: Columns (1,3,7) have mixed types. Specify dtype option on import or set low_memory=False.\n",
            "  train_df = pd.read_csv(\"data/cr-copec_total_train_.csv\")\n"
          ]
        },
        {
          "output_type": "stream",
          "name": "stdout",
          "text": [
            "Number of training sentences: 228,879\n",
            "\n",
            "Number of valid sentences: 25,431\n",
            "\n",
            "Number of test sentences: 29,176\n",
            "\n"
          ]
        },
        {
          "output_type": "execute_result",
          "data": {
            "text/plain": [
              "                                            sentence section   document  \\\n",
              "0                                            ITEM 7.       1  232556100   \n",
              "1  On April 7, 1995, Cygne sold the United Kingdo...       1  232556100   \n",
              "2  On February 9, 1996, the Company sold substant...       1  232556100   \n",
              "3  On September 20, 1996, the Company sold its 60...       1  232556100   \n",
              "4  Since the consummation of the Ann Taylor Dispo...       1  232556100   \n",
              "\n",
              "       date  loc true_label                           file_name Unnamed: 7  \n",
              "0  19970502    0         no  sec01_2330_232556100-10-K-19970502        NaN  \n",
              "1  19970502    2         no  sec01_2330_232556100-10-K-19970502        NaN  \n",
              "2  19970502    3         no  sec01_2330_232556100-10-K-19970502        NaN  \n",
              "3  19970502    4         no  sec01_2330_232556100-10-K-19970502        NaN  \n",
              "4  19970502    6         no  sec01_2330_232556100-10-K-19970502        NaN  "
            ],
            "text/html": [
              "\n",
              "  <div id=\"df-4bea4b3c-8675-4a6f-a419-2610d726f8e4\" class=\"colab-df-container\">\n",
              "    <div>\n",
              "<style scoped>\n",
              "    .dataframe tbody tr th:only-of-type {\n",
              "        vertical-align: middle;\n",
              "    }\n",
              "\n",
              "    .dataframe tbody tr th {\n",
              "        vertical-align: top;\n",
              "    }\n",
              "\n",
              "    .dataframe thead th {\n",
              "        text-align: right;\n",
              "    }\n",
              "</style>\n",
              "<table border=\"1\" class=\"dataframe\">\n",
              "  <thead>\n",
              "    <tr style=\"text-align: right;\">\n",
              "      <th></th>\n",
              "      <th>sentence</th>\n",
              "      <th>section</th>\n",
              "      <th>document</th>\n",
              "      <th>date</th>\n",
              "      <th>loc</th>\n",
              "      <th>true_label</th>\n",
              "      <th>file_name</th>\n",
              "      <th>Unnamed: 7</th>\n",
              "    </tr>\n",
              "  </thead>\n",
              "  <tbody>\n",
              "    <tr>\n",
              "      <th>0</th>\n",
              "      <td>ITEM 7.</td>\n",
              "      <td>1</td>\n",
              "      <td>232556100</td>\n",
              "      <td>19970502</td>\n",
              "      <td>0</td>\n",
              "      <td>no</td>\n",
              "      <td>sec01_2330_232556100-10-K-19970502</td>\n",
              "      <td>NaN</td>\n",
              "    </tr>\n",
              "    <tr>\n",
              "      <th>1</th>\n",
              "      <td>On April 7, 1995, Cygne sold the United Kingdo...</td>\n",
              "      <td>1</td>\n",
              "      <td>232556100</td>\n",
              "      <td>19970502</td>\n",
              "      <td>2</td>\n",
              "      <td>no</td>\n",
              "      <td>sec01_2330_232556100-10-K-19970502</td>\n",
              "      <td>NaN</td>\n",
              "    </tr>\n",
              "    <tr>\n",
              "      <th>2</th>\n",
              "      <td>On February 9, 1996, the Company sold substant...</td>\n",
              "      <td>1</td>\n",
              "      <td>232556100</td>\n",
              "      <td>19970502</td>\n",
              "      <td>3</td>\n",
              "      <td>no</td>\n",
              "      <td>sec01_2330_232556100-10-K-19970502</td>\n",
              "      <td>NaN</td>\n",
              "    </tr>\n",
              "    <tr>\n",
              "      <th>3</th>\n",
              "      <td>On September 20, 1996, the Company sold its 60...</td>\n",
              "      <td>1</td>\n",
              "      <td>232556100</td>\n",
              "      <td>19970502</td>\n",
              "      <td>4</td>\n",
              "      <td>no</td>\n",
              "      <td>sec01_2330_232556100-10-K-19970502</td>\n",
              "      <td>NaN</td>\n",
              "    </tr>\n",
              "    <tr>\n",
              "      <th>4</th>\n",
              "      <td>Since the consummation of the Ann Taylor Dispo...</td>\n",
              "      <td>1</td>\n",
              "      <td>232556100</td>\n",
              "      <td>19970502</td>\n",
              "      <td>6</td>\n",
              "      <td>no</td>\n",
              "      <td>sec01_2330_232556100-10-K-19970502</td>\n",
              "      <td>NaN</td>\n",
              "    </tr>\n",
              "  </tbody>\n",
              "</table>\n",
              "</div>\n",
              "    <div class=\"colab-df-buttons\">\n",
              "\n",
              "  <div class=\"colab-df-container\">\n",
              "    <button class=\"colab-df-convert\" onclick=\"convertToInteractive('df-4bea4b3c-8675-4a6f-a419-2610d726f8e4')\"\n",
              "            title=\"Convert this dataframe to an interactive table.\"\n",
              "            style=\"display:none;\">\n",
              "\n",
              "  <svg xmlns=\"http://www.w3.org/2000/svg\" height=\"24px\" viewBox=\"0 -960 960 960\">\n",
              "    <path d=\"M120-120v-720h720v720H120Zm60-500h600v-160H180v160Zm220 220h160v-160H400v160Zm0 220h160v-160H400v160ZM180-400h160v-160H180v160Zm440 0h160v-160H620v160ZM180-180h160v-160H180v160Zm440 0h160v-160H620v160Z\"/>\n",
              "  </svg>\n",
              "    </button>\n",
              "\n",
              "  <style>\n",
              "    .colab-df-container {\n",
              "      display:flex;\n",
              "      gap: 12px;\n",
              "    }\n",
              "\n",
              "    .colab-df-convert {\n",
              "      background-color: #E8F0FE;\n",
              "      border: none;\n",
              "      border-radius: 50%;\n",
              "      cursor: pointer;\n",
              "      display: none;\n",
              "      fill: #1967D2;\n",
              "      height: 32px;\n",
              "      padding: 0 0 0 0;\n",
              "      width: 32px;\n",
              "    }\n",
              "\n",
              "    .colab-df-convert:hover {\n",
              "      background-color: #E2EBFA;\n",
              "      box-shadow: 0px 1px 2px rgba(60, 64, 67, 0.3), 0px 1px 3px 1px rgba(60, 64, 67, 0.15);\n",
              "      fill: #174EA6;\n",
              "    }\n",
              "\n",
              "    .colab-df-buttons div {\n",
              "      margin-bottom: 4px;\n",
              "    }\n",
              "\n",
              "    [theme=dark] .colab-df-convert {\n",
              "      background-color: #3B4455;\n",
              "      fill: #D2E3FC;\n",
              "    }\n",
              "\n",
              "    [theme=dark] .colab-df-convert:hover {\n",
              "      background-color: #434B5C;\n",
              "      box-shadow: 0px 1px 3px 1px rgba(0, 0, 0, 0.15);\n",
              "      filter: drop-shadow(0px 1px 2px rgba(0, 0, 0, 0.3));\n",
              "      fill: #FFFFFF;\n",
              "    }\n",
              "  </style>\n",
              "\n",
              "    <script>\n",
              "      const buttonEl =\n",
              "        document.querySelector('#df-4bea4b3c-8675-4a6f-a419-2610d726f8e4 button.colab-df-convert');\n",
              "      buttonEl.style.display =\n",
              "        google.colab.kernel.accessAllowed ? 'block' : 'none';\n",
              "\n",
              "      async function convertToInteractive(key) {\n",
              "        const element = document.querySelector('#df-4bea4b3c-8675-4a6f-a419-2610d726f8e4');\n",
              "        const dataTable =\n",
              "          await google.colab.kernel.invokeFunction('convertToInteractive',\n",
              "                                                    [key], {});\n",
              "        if (!dataTable) return;\n",
              "\n",
              "        const docLinkHtml = 'Like what you see? Visit the ' +\n",
              "          '<a target=\"_blank\" href=https://colab.research.google.com/notebooks/data_table.ipynb>data table notebook</a>'\n",
              "          + ' to learn more about interactive tables.';\n",
              "        element.innerHTML = '';\n",
              "        dataTable['output_type'] = 'display_data';\n",
              "        await google.colab.output.renderOutput(dataTable, element);\n",
              "        const docLink = document.createElement('div');\n",
              "        docLink.innerHTML = docLinkHtml;\n",
              "        element.appendChild(docLink);\n",
              "      }\n",
              "    </script>\n",
              "  </div>\n",
              "\n",
              "\n",
              "<div id=\"df-87bf8800-0b8d-4734-9f9f-51ecab1580b4\">\n",
              "  <button class=\"colab-df-quickchart\" onclick=\"quickchart('df-87bf8800-0b8d-4734-9f9f-51ecab1580b4')\"\n",
              "            title=\"Suggest charts\"\n",
              "            style=\"display:none;\">\n",
              "\n",
              "<svg xmlns=\"http://www.w3.org/2000/svg\" height=\"24px\"viewBox=\"0 0 24 24\"\n",
              "     width=\"24px\">\n",
              "    <g>\n",
              "        <path d=\"M19 3H5c-1.1 0-2 .9-2 2v14c0 1.1.9 2 2 2h14c1.1 0 2-.9 2-2V5c0-1.1-.9-2-2-2zM9 17H7v-7h2v7zm4 0h-2V7h2v10zm4 0h-2v-4h2v4z\"/>\n",
              "    </g>\n",
              "</svg>\n",
              "  </button>\n",
              "\n",
              "<style>\n",
              "  .colab-df-quickchart {\n",
              "      --bg-color: #E8F0FE;\n",
              "      --fill-color: #1967D2;\n",
              "      --hover-bg-color: #E2EBFA;\n",
              "      --hover-fill-color: #174EA6;\n",
              "      --disabled-fill-color: #AAA;\n",
              "      --disabled-bg-color: #DDD;\n",
              "  }\n",
              "\n",
              "  [theme=dark] .colab-df-quickchart {\n",
              "      --bg-color: #3B4455;\n",
              "      --fill-color: #D2E3FC;\n",
              "      --hover-bg-color: #434B5C;\n",
              "      --hover-fill-color: #FFFFFF;\n",
              "      --disabled-bg-color: #3B4455;\n",
              "      --disabled-fill-color: #666;\n",
              "  }\n",
              "\n",
              "  .colab-df-quickchart {\n",
              "    background-color: var(--bg-color);\n",
              "    border: none;\n",
              "    border-radius: 50%;\n",
              "    cursor: pointer;\n",
              "    display: none;\n",
              "    fill: var(--fill-color);\n",
              "    height: 32px;\n",
              "    padding: 0;\n",
              "    width: 32px;\n",
              "  }\n",
              "\n",
              "  .colab-df-quickchart:hover {\n",
              "    background-color: var(--hover-bg-color);\n",
              "    box-shadow: 0 1px 2px rgba(60, 64, 67, 0.3), 0 1px 3px 1px rgba(60, 64, 67, 0.15);\n",
              "    fill: var(--button-hover-fill-color);\n",
              "  }\n",
              "\n",
              "  .colab-df-quickchart-complete:disabled,\n",
              "  .colab-df-quickchart-complete:disabled:hover {\n",
              "    background-color: var(--disabled-bg-color);\n",
              "    fill: var(--disabled-fill-color);\n",
              "    box-shadow: none;\n",
              "  }\n",
              "\n",
              "  .colab-df-spinner {\n",
              "    border: 2px solid var(--fill-color);\n",
              "    border-color: transparent;\n",
              "    border-bottom-color: var(--fill-color);\n",
              "    animation:\n",
              "      spin 1s steps(1) infinite;\n",
              "  }\n",
              "\n",
              "  @keyframes spin {\n",
              "    0% {\n",
              "      border-color: transparent;\n",
              "      border-bottom-color: var(--fill-color);\n",
              "      border-left-color: var(--fill-color);\n",
              "    }\n",
              "    20% {\n",
              "      border-color: transparent;\n",
              "      border-left-color: var(--fill-color);\n",
              "      border-top-color: var(--fill-color);\n",
              "    }\n",
              "    30% {\n",
              "      border-color: transparent;\n",
              "      border-left-color: var(--fill-color);\n",
              "      border-top-color: var(--fill-color);\n",
              "      border-right-color: var(--fill-color);\n",
              "    }\n",
              "    40% {\n",
              "      border-color: transparent;\n",
              "      border-right-color: var(--fill-color);\n",
              "      border-top-color: var(--fill-color);\n",
              "    }\n",
              "    60% {\n",
              "      border-color: transparent;\n",
              "      border-right-color: var(--fill-color);\n",
              "    }\n",
              "    80% {\n",
              "      border-color: transparent;\n",
              "      border-right-color: var(--fill-color);\n",
              "      border-bottom-color: var(--fill-color);\n",
              "    }\n",
              "    90% {\n",
              "      border-color: transparent;\n",
              "      border-bottom-color: var(--fill-color);\n",
              "    }\n",
              "  }\n",
              "</style>\n",
              "\n",
              "  <script>\n",
              "    async function quickchart(key) {\n",
              "      const quickchartButtonEl =\n",
              "        document.querySelector('#' + key + ' button');\n",
              "      quickchartButtonEl.disabled = true;  // To prevent multiple clicks.\n",
              "      quickchartButtonEl.classList.add('colab-df-spinner');\n",
              "      try {\n",
              "        const charts = await google.colab.kernel.invokeFunction(\n",
              "            'suggestCharts', [key], {});\n",
              "      } catch (error) {\n",
              "        console.error('Error during call to suggestCharts:', error);\n",
              "      }\n",
              "      quickchartButtonEl.classList.remove('colab-df-spinner');\n",
              "      quickchartButtonEl.classList.add('colab-df-quickchart-complete');\n",
              "    }\n",
              "    (() => {\n",
              "      let quickchartButtonEl =\n",
              "        document.querySelector('#df-87bf8800-0b8d-4734-9f9f-51ecab1580b4 button');\n",
              "      quickchartButtonEl.style.display =\n",
              "        google.colab.kernel.accessAllowed ? 'block' : 'none';\n",
              "    })();\n",
              "  </script>\n",
              "</div>\n",
              "    </div>\n",
              "  </div>\n"
            ]
          },
          "metadata": {},
          "execution_count": 7
        }
      ],
      "source": [
        "# Load the dataset into a pandas dataframe.\n",
        "train_df = pd.read_csv(\"data/cr-copec_total_train.csv\")\n",
        "val_df = pd.read_csv(\"data/cr-copec_total_va.csv\")\n",
        "test_df = pd.read_csv(\"data/cr-copec_total_test.csv\")\n",
        "\n",
        "# Report the number of sentences.\n",
        "print('Number of training sentences: {:,}\\n'.format(train_df.shape[0]))\n",
        "print('Number of valid sentences: {:,}\\n'.format(val_df.shape[0]))\n",
        "print('Number of test sentences: {:,}\\n'.format(test_df.shape[0]))\n",
        "\n",
        "# Display 5 rows from the data.\n",
        "train_df.head(5)"
      ]
    },
    {
      "cell_type": "code",
      "execution_count": 8,
      "metadata": {
        "id": "I-RWmEFQxnPM"
      },
      "outputs": [],
      "source": [
        "# Get the lists of sentences and their labels.\n",
        "train_texts, train_labels = train_df.sentence.values.tolist(), [1 if i=='yes' else 0 for i in train_df.true_label.values]\n",
        "val_texts, val_labels = val_df.sentence.values.tolist(), [1 if i=='yes' else 0 for i in val_df.true_label.values]\n",
        "test_texts, test_labels = test_df.sentence.values.tolist(), [1 if i=='yes' else 0 for i in test_df.true_label.values]\n",
        "\n",
        "train_ds = tf.data.Dataset.from_tensor_slices((train_texts,train_labels)).shuffle(len(train_texts), seed=seed_value).batch(batch)\n",
        "val_ds = tf.data.Dataset.from_tensor_slices((val_texts,val_labels)).shuffle(len(val_texts), seed=seed_value).batch(32)"
      ]
    },
    {
      "cell_type": "markdown",
      "metadata": {
        "id": "4eTbA-DHxnTy"
      },
      "source": [
        "## Load Model"
      ]
    },
    {
      "cell_type": "code",
      "execution_count": 9,
      "metadata": {
        "id": "AWlgYVcbfCJ0"
      },
      "outputs": [],
      "source": [
        "if model_name == 'bert_base':\n",
        "  model_path ='https://tfhub.dev/tensorflow/bert_en_uncased_L-12_H-768_A-12/4'\n",
        "  model_preprocess ='https://tfhub.dev/tensorflow/bert_en_uncased_preprocess/3'\n",
        "\n",
        "elif model_name == 'electra_base':\n",
        "  model_path = 'https://tfhub.dev/google/electra_base/2'\n",
        "  model_preprocess = 'https://tfhub.dev/tensorflow/bert_en_uncased_preprocess/3'\n",
        "\n",
        "tfhub_handle_encoder = model_path\n",
        "tfhub_handle_preprocess = model_preprocess\n",
        "\n",
        "def build_model():\n",
        "    text_input = tf.keras.layers.Input(shape=(), dtype=tf.string, name='text')\n",
        "    preprocessing_layer = hub.KerasLayer(tfhub_handle_preprocess, name='preprocessing')\n",
        "    encoder_inputs = preprocessing_layer(text_input)\n",
        "    encoder = hub.KerasLayer(tfhub_handle_encoder, dtype=tf.float64, trainable=True, name=model_name+'_encoder')\n",
        "    outputs = encoder(encoder_inputs)\n",
        "    net = outputs['pooled_output']\n",
        "    net = tf.keras.layers.Dropout(0.3, seed=seed_value)(net)\n",
        "    net = tf.keras.layers.Dense(1, kernel_initializer=tf.keras.initializers.GlorotUniform(seed=seed_value), activation='sigmoid', name='classifier')(net)\n",
        "    model=tf.keras.Model(text_input, net)\n",
        "    model.compile(optimizer=tf.keras.optimizers.Adam(learning_rate=current_lr),\n",
        "                            loss=tf.keras.losses.BinaryCrossentropy(from_logits=False),\n",
        "                            metrics=tf.metrics.BinaryAccuracy())\n",
        "    model.summary()\n",
        "    return model"
      ]
    },
    {
      "cell_type": "markdown",
      "source": [
        "# Train Model"
      ],
      "metadata": {
        "id": "GpDkpNpqPX85"
      }
    },
    {
      "cell_type": "code",
      "execution_count": 10,
      "metadata": {
        "colab": {
          "base_uri": "https://localhost:8080/",
          "height": 1000
        },
        "id": "CGfSdlq6xuuT",
        "outputId": "819528d6-4486-4c89-8316-e9ce95e2f2e3"
      },
      "outputs": [
        {
          "output_type": "stream",
          "name": "stdout",
          "text": [
            "Model: \"model\"\n",
            "__________________________________________________________________________________________________\n",
            " Layer (type)                   Output Shape         Param #     Connected to                     \n",
            "==================================================================================================\n",
            " text (InputLayer)              [(None,)]            0           []                               \n",
            "                                                                                                  \n",
            " preprocessing (KerasLayer)     {'input_mask': (Non  0           ['text[0][0]']                   \n",
            "                                e, 128),                                                          \n",
            "                                 'input_type_ids':                                                \n",
            "                                (None, 128),                                                      \n",
            "                                 'input_word_ids':                                                \n",
            "                                (None, 128)}                                                      \n",
            "                                                                                                  \n",
            " bert_base_encoder (KerasLayer)  {'encoder_outputs':  109482241  ['preprocessing[0][0]',          \n",
            "                                 [(None, 128, 768),               'preprocessing[0][1]',          \n",
            "                                 (None, 128, 768),                'preprocessing[0][2]']          \n",
            "                                 (None, 128, 768),                                                \n",
            "                                 (None, 128, 768),                                                \n",
            "                                 (None, 128, 768),                                                \n",
            "                                 (None, 128, 768),                                                \n",
            "                                 (None, 128, 768),                                                \n",
            "                                 (None, 128, 768),                                                \n",
            "                                 (None, 128, 768),                                                \n",
            "                                 (None, 128, 768),                                                \n",
            "                                 (None, 128, 768),                                                \n",
            "                                 (None, 128, 768)],                                               \n",
            "                                 'default': (None,                                                \n",
            "                                768),                                                             \n",
            "                                 'sequence_output':                                               \n",
            "                                 (None, 128, 768),                                                \n",
            "                                 'pooled_output': (                                               \n",
            "                                None, 768)}                                                       \n",
            "                                                                                                  \n",
            " dropout (Dropout)              (None, 768)          0           ['bert_base_encoder[0][13]']     \n",
            "                                                                                                  \n",
            " classifier (Dense)             (None, 1)            769         ['dropout[0][0]']                \n",
            "                                                                                                  \n",
            "==================================================================================================\n",
            "Total params: 109,483,010\n",
            "Trainable params: 109,483,009\n",
            "Non-trainable params: 1\n",
            "__________________________________________________________________________________________________\n",
            "Training model with https://tfhub.dev/tensorflow/bert_en_uncased_L-12_H-768_A-12/4\n",
            "7153/7153 [==============================] - ETA: 0s - loss: 0.0640 - binary_accuracy: 0.9767\n",
            "Epoch 1: val_loss improved from inf to 0.05164, saving model to #models/tensorflow_bert_base.hdf5\n",
            "7153/7153 [==============================] - 6651s 927ms/step - loss: 0.0640 - binary_accuracy: 0.9767 - val_loss: 0.0516 - val_binary_accuracy: 0.9804\n"
          ]
        },
        {
          "output_type": "display_data",
          "data": {
            "text/plain": [
              "<Figure size 640x480 with 1 Axes>"
            ],
            "image/png": "[encoded data removed]"
          },
          "metadata": {}
        }
      ],
      "source": [
        "from tensorflow.keras.callbacks import ModelCheckpoint\n",
        "\n",
        "def namefile(model_name):\n",
        "    filepath= \"#models/tensorflow_\"+model_name+\".hdf5\"\n",
        "    return filepath\n",
        "\n",
        "for fold in range(1):\n",
        "    tf.keras.utils.set_random_seed(seed_value)\n",
        "    os.environ[\"TF_DISABLE_SEGMENT_REDUCTION_OP_DETERMINISM_EXCEPTIONS\"]=\"True\"\n",
        "\n",
        "\n",
        "    model = build_model()\n",
        "    filepath= namefile(model_name)\n",
        "\n",
        "    checkpoint = ModelCheckpoint(filepath, monitor='val_loss', verbose=1, save_best_only=True, mode='min')\n",
        "    callbacks_list = [checkpoint]\n",
        "\n",
        "    print(f'Training model with {tfhub_handle_encoder}')\n",
        "    history = model.fit(x=train_ds,\n",
        "                                    validation_data=val_ds,\n",
        "                                    epochs=epoch,\n",
        "                                    callbacks=callbacks_list,\n",
        "                                    shuffle=False)\n",
        "\n",
        "    plt.plot(history.history['loss'])\n",
        "    plt.plot(history.history['val_loss'])\n",
        "    plt.ylabel('loss')\n",
        "    plt.xlabel('epoch')\n",
        "    plt.legend(['train', 'validation'], loc='upper left')\n",
        "    plt.show()"
      ]
    },
    {
      "cell_type": "markdown",
      "source": [
        "# Test Model"
      ],
      "metadata": {
        "id": "x5Rquht5RnlD"
      }
    },
    {
      "cell_type": "code",
      "source": [
        "def load_model(file):\n",
        "    text_input = tf.keras.layers.Input(shape=(), dtype=tf.string, name='text')\n",
        "    preprocessing_layer = hub.KerasLayer(tfhub_handle_preprocess, name='preprocessing')\n",
        "    encoder_inputs = preprocessing_layer(text_input)\n",
        "    encoder = hub.KerasLayer(tfhub_handle_encoder, dtype=tf.float64, trainable=True, name='BERT_encoder')\n",
        "    outputs = encoder(encoder_inputs)\n",
        "    net = outputs['pooled_output']\n",
        "    net = tf.keras.layers.Dropout(0.3, seed=seed_value)(net)\n",
        "    net = tf.keras.layers.Dense(1, kernel_initializer=tf.keras.initializers.GlorotUniform(seed=seed_value), activation='sigmoid', name='classifier')(net)\n",
        "    model=tf.keras.Model(text_input, net)\n",
        "    model.load_weights(file)\n",
        "    model.compile(optimizer=tf.keras.optimizers.Adam(learning_rate=current_lr),\n",
        "                            loss=tf.keras.losses.BinaryCrossentropy(from_logits=False),\n",
        "                             metrics=tf.metrics.BinaryAccuracy())\n",
        "    return model"
      ],
      "metadata": {
        "id": "yQgUtyQuRqg-"
      },
      "execution_count": 11,
      "outputs": []
    },
    {
      "cell_type": "code",
      "source": [
        "filepath= namefile(model_name)\n",
        "model = load_model(filepath)\n",
        "\n",
        "text_sample1=['The decline in Consumer Product Segment gross profit margin is mainly attributable to increased levels of royalty cost resulting from changes in the sales mix towards the higher royalties associated with licensed characters products, and a deterioration in the gross profit margins at Penn which decreased to 12.0% from 22.1%.']\n",
        "text_sample2=['The increase in unit shipments and average selling price reflects the OEMs continued move to finished luggage compartments.']\n",
        "\n",
        "print(model.predict(text_sample1))\n",
        "print(model.predict(text_sample2))"
      ],
      "metadata": {
        "colab": {
          "base_uri": "https://localhost:8080/"
        },
        "id": "AXQEtVEHSXf_",
        "outputId": "0807e922-6813-4e30-c9d3-1d05d41193c3"
      },
      "execution_count": 12,
      "outputs": [
        {
          "output_type": "stream",
          "name": "stdout",
          "text": [
            "[[0.9809161]]\n",
            "[[0.11681046]]\n"
          ]
        }
      ]
    }
  ],
  "metadata": {
    "accelerator": "GPU",
    "colab": {
      "provenance": [],
      "gpuType": "T4"
    },
    "kernelspec": {
      "display_name": "Python 3",
      "name": "python3"
    },
    "language_info": {
      "name": "python"
    }
  },
  "nbformat": 4,
  "nbformat_minor": 0
}